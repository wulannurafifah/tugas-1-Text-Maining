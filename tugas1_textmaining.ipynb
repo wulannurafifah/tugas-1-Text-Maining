{
  "nbformat": 4,
  "nbformat_minor": 0,
  "metadata": {
    "colab": {
      "provenance": [],
      "collapsed_sections": []
    },
    "kernelspec": {
      "name": "python3",
      "display_name": "Python 3"
    },
    "language_info": {
      "name": "python"
    }
  },
  "cells": [
    {
      "cell_type": "code",
      "execution_count": null,
      "metadata": {
        "id": "MMClPPmuVKpB"
      },
      "outputs": [],
      "source": [
        "#Mencari review dari restoran yang akan di scrapping "
      ]
    },
    {
      "cell_type": "code",
      "source": [
        "!pip install google-search-results"
      ],
      "metadata": {
        "id": "ZaHP3UpCWgwa"
      },
      "execution_count": null,
      "outputs": []
    },
    {
      "cell_type": "code",
      "source": [
        "from serpapi import GoogleSearch\n",
        "\n",
        "params = {\n",
        "  \"engine\": \"google_maps\",\n",
        "  \"q\": \"bakso\",\n",
        "  \"ll\": \"@-6.9776513,110.4163883,15.27z\",\n",
        "  \"type\": \"search\",\n",
        "  \"api_key\": \"2b34e8b0f32ffc331e496deb6940c89f1337ea4e4d7a46e3f5e2499936353b24\"\n",
        "}\n",
        "\n",
        "search = GoogleSearch(params)\n",
        "results = search.get_dict()\n",
        "local_results = results[\"local_results\"]"
      ],
      "metadata": {
        "id": "CMXoiTNjWzZO",
        "colab": {
          "base_uri": "https://localhost:8080/"
        },
        "outputId": "13cf3eb8-3690-4a64-e9be-6800741145d0"
      },
      "execution_count": null,
      "outputs": [
        {
          "output_type": "stream",
          "name": "stdout",
          "text": [
            "https://serpapi.com/search\n"
          ]
        }
      ]
    },
    {
      "cell_type": "code",
      "source": [
        "local_results"
      ],
      "metadata": {
        "id": "wYJPRnHiYODQ"
      },
      "execution_count": null,
      "outputs": []
    },
    {
      "cell_type": "code",
      "source": [
        "# tempat makan pertama "
      ],
      "metadata": {
        "id": "4pRGJk5zbZ43"
      },
      "execution_count": null,
      "outputs": []
    },
    {
      "cell_type": "code",
      "source": [
        "from serpapi import GoogleSearch\n",
        "\n",
        "params = {\n",
        "  \"engine\": \"google_maps_reviews\",\n",
        "  \"data_id\": \"0x2e708bb4df191949:0xf5518a0a38366426\",\n",
        "  \"api_key\": \"2b34e8b0f32ffc331e496deb6940c89f1337ea4e4d7a46e3f5e2499936353b24\"\n",
        "}\n",
        "\n",
        "search = GoogleSearch(params)\n",
        "results = search.get_dict()\n",
        "reviews = results[\"reviews\"][1][\"snippet\"]"
      ],
      "metadata": {
        "colab": {
          "base_uri": "https://localhost:8080/"
        },
        "id": "8CQaM1rwY-sr",
        "outputId": "92a7729f-5e52-44de-d708-1fe5409696f3"
      },
      "execution_count": null,
      "outputs": [
        {
          "output_type": "stream",
          "name": "stdout",
          "text": [
            "https://serpapi.com/search\n"
          ]
        }
      ]
    },
    {
      "cell_type": "code",
      "source": [
        "results"
      ],
      "metadata": {
        "id": "9NWW5Wb4Zd-u"
      },
      "execution_count": null,
      "outputs": []
    },
    {
      "cell_type": "code",
      "source": [
        "for i in range(10):\n",
        "  rating = results[\"reviews\"][i][\"rating\"]\n",
        "  print(rating)\n",
        "  reviews = results[\"reviews\"][i][\"snippet\"]\n",
        "  print(reviews)"
      ],
      "metadata": {
        "id": "zDzu7xmfZkZy",
        "colab": {
          "base_uri": "https://localhost:8080/"
        },
        "outputId": "71570561-953c-4f19-c012-f544f2add4d0"
      },
      "execution_count": null,
      "outputs": [
        {
          "output_type": "stream",
          "name": "stdout",
          "text": [
            "5.0\n",
            "(Translated by Google) Brother's meatballs Semarang. Location behind HSBC Semarang Building in Simpang Lima area. Guaranteed delicious savory meatballs with green vegetables, noodles, vermicelli, offal, tripe and the best thing is FRIED PANGSIT (you can add one bowl portion). Nagihhhh... (Original) Bakso abang2 semarangan. Lokasi belakang Gedung HSBC Semarang daerah Simpang Lima. Jamin enak bakso kuah gurih ada sayuran ijo bakmi bihun jeroan usus babat dan yang paling enak PANGSIT GORENG (bisa tambah porsinan satu mangkok). Nagihhhh...\n",
            "4.0\n",
            "(Translated by Google) The story is that when you pass through the back street of the Santika hotel, how come there is a lot of beef meatballs selling where the place is just a tent, but there are really a lot of people who buy it. It's been a long time since I tried it. . Inframes: Meatballs without noodles -/+ 13k . Honestly, the sauce is clear and very tasty, I like the taste of the sauce, the meatballs are like small pentols, not so meaty, but you can get fried meatballs too. Well, the special thing here is that the dumplings are crispy and you can order 1 portion and get a lot of bets. It's good to eat the soup or the fried dumplings wqwq. (Original) Ceritanya pas lagi lewat jalan belakang hotel Santika, eh kok ada jualan bakso sapi rame bet mana tempatnya cuma tendaan gitu tp bener2 banyak amat yg beli. Gapake lama aku cobain. . In frame: 🍴Bakso tanpa mie 💸 -/+ 13k . 📌Jujur ini kuahnya bening dan guriiiih bgt, akuu suka rasa kuahnya, baksonya macem pentol yg kecil2 gt, gak begitu berasa daging tp dpt bakso goreng juga. Nah, special nya tuh disini justru pangsitnya, kriuk dan bisa pesen 1 porsi dpt banyak bet. Enaknya sih makan kuah ama pangsit gorengnya wqwq.\n",
            "5.0\n",
            "(Translated by Google) Really patiently waiting, when I come here sometimes it closes because I go home. There are fried meatballs, veins and smooth. The special is the dumplings, dipped in sauce, chili sauce and a little soy sauce. Price from 20kban, including drink and extra half dumplings. (Original) Bener² sabar menanti, klo pas kesini kadang tutup krn pulang kampung. Baksonya ada yg goreng, urat dan halus. Yg spesial pangsitnya, dicocol pke saos, sambel dan kecap dikit. Harga dari 20rban, termasuk minum dan extra pangsit separo.\n",
            "5.0\n",
            "(Translated by Google) The meatballs are top, portions are OK, the price is right👍🏻 (Original) Baksonya top, porsi OK, harga pas👍🏻\n",
            "5.0\n",
            "(Translated by Google) This meatball is very special, my family and I always stop by, besides its affordable price, it feels really good, and plus its crispy dumplings and not so hard, my kids enjoy it, what else is close to Gramedia so they can stop by hehehehe. Come stop by and enjoy the meatballs and dumplings patiently waiting ... (Original) Bakso ini sangat istimewa, saya dan keluarga selalu mampir, selain harga nya yang terjangkau rasanya enak banget, dan di tambah lagi pangsit nya yang kriuk kriuk dan tidak begitu keras sangat di gemari anak saya, apa lagi dekat dengan Gramedia jadi bisa mampir hehehehe. Ayo mampir dan nikmati bakso dan pangsit nya sabar menanti...\n",
            "5.0\n",
            "(Translated by Google) The price is cheap but not cheap ... clear sauce, the dumplings are really crunchy ... the taste is just right ... (Original) Hargaanya murah tapi gak murahan...kuah bening, pangsitnya kriuk banget...rasanya pas bget..\n",
            "5.0\n",
            "(Translated by Google) Guaranteed to be uenak ... and the typical dumplings are what make you addicted ... success and health always sisung supar (Original) Dijamin uenak pastinya...dan khas pangsitnya itu yg bikin nagih trussa...sukses dan sehat selalu kakung supar\n",
            "4.0\n",
            "\n",
            "4.0\n",
            "(Translated by Google) Nice(Original)Enak\n",
            "5.0\n",
            "\n"
          ]
        }
      ]
    },
    {
      "cell_type": "code",
      "source": [
        "# tempat makan ke 2"
      ],
      "metadata": {
        "id": "cUkBlfmLbu_l"
      },
      "execution_count": null,
      "outputs": []
    },
    {
      "cell_type": "code",
      "source": [
        "from serpapi import GoogleSearch\n",
        "\n",
        "params = {\n",
        "  \"engine\": \"google_maps_reviews\",\n",
        "  \"data_id\": \"0x2e708b50466f7175:0x3a96a9010ab0d758\",\n",
        "  \"api_key\": \"2b34e8b0f32ffc331e496deb6940c89f1337ea4e4d7a46e3f5e2499936353b24\"\n",
        "}\n",
        "\n",
        "search = GoogleSearch(params)\n",
        "results = search.get_dict()\n",
        "reviews = results[\"reviews\"][1][\"snippet\"]"
      ],
      "metadata": {
        "colab": {
          "base_uri": "https://localhost:8080/"
        },
        "id": "8fph4oF8b8V6",
        "outputId": "67f7f810-b54f-4c14-a039-def2f5b40368"
      },
      "execution_count": null,
      "outputs": [
        {
          "output_type": "stream",
          "name": "stdout",
          "text": [
            "https://serpapi.com/search\n"
          ]
        }
      ]
    },
    {
      "cell_type": "code",
      "source": [
        "results"
      ],
      "metadata": {
        "id": "c_SxOsmacpG5"
      },
      "execution_count": null,
      "outputs": []
    },
    {
      "cell_type": "code",
      "source": [
        "for i in range(10):\n",
        "  rating = results[\"reviews\"][i][\"rating\"]\n",
        "  print(rating)\n",
        "  reviews = results[\"reviews\"][i][\"snippet\"]\n",
        "  print(reviews)"
      ],
      "metadata": {
        "id": "ZTg_HLzecvu7"
      },
      "execution_count": null,
      "outputs": []
    },
    {
      "cell_type": "code",
      "source": [
        "# tempat makan ke 3"
      ],
      "metadata": {
        "id": "CCL4nc_Jb-UN"
      },
      "execution_count": null,
      "outputs": []
    },
    {
      "cell_type": "code",
      "source": [
        "from serpapi import GoogleSearch\n",
        "\n",
        "params = {\n",
        "  \"engine\": \"google_maps_reviews\",\n",
        "  \"data_id\": \"0x2e708ca76324ffef:0x5d40f44311d348d3\",\n",
        "  \"api_key\": \"2b34e8b0f32ffc331e496deb6940c89f1337ea4e4d7a46e3f5e2499936353b24\"\n",
        "}\n",
        "\n",
        "search = GoogleSearch(params)\n",
        "results = search.get_dict()\n",
        "reviews = results[\"reviews\"][1][\"snippet\"]"
      ],
      "metadata": {
        "colab": {
          "base_uri": "https://localhost:8080/"
        },
        "id": "noKYLxeacBZZ",
        "outputId": "ff89313a-a573-4f06-d802-0c3b6edc557c"
      },
      "execution_count": null,
      "outputs": [
        {
          "output_type": "stream",
          "name": "stdout",
          "text": [
            "https://serpapi.com/search\n"
          ]
        }
      ]
    },
    {
      "cell_type": "code",
      "source": [
        "results"
      ],
      "metadata": {
        "id": "opE68ErLdvgw"
      },
      "execution_count": null,
      "outputs": []
    },
    {
      "cell_type": "code",
      "source": [
        "for i in range(10):\n",
        "  rating = results[\"reviews\"][i][\"rating\"]\n",
        "  print(rating)\n",
        "  reviews = results[\"reviews\"][i][\"snippet\"]\n",
        "  print(reviews)"
      ],
      "metadata": {
        "id": "hRmVPuRpdWPi"
      },
      "execution_count": null,
      "outputs": []
    },
    {
      "cell_type": "code",
      "source": [
        "# tempat makan ke 4"
      ],
      "metadata": {
        "id": "guLGzPLucDEy"
      },
      "execution_count": null,
      "outputs": []
    },
    {
      "cell_type": "code",
      "source": [
        "from serpapi import GoogleSearch\n",
        "\n",
        "params = {\n",
        "  \"engine\": \"google_maps_reviews\",\n",
        "  \"data_id\": \"0x2e708ca87642aeff:0x3a9e3d261f97c427\",\n",
        "  \"api_key\": \"2b34e8b0f32ffc331e496deb6940c89f1337ea4e4d7a46e3f5e2499936353b24\"\n",
        "}\n",
        "\n",
        "search = GoogleSearch(params)\n",
        "results = search.get_dict()\n",
        "reviews = results[\"reviews\"][1][\"snippet\"]"
      ],
      "metadata": {
        "colab": {
          "base_uri": "https://localhost:8080/"
        },
        "id": "4lqTy3BHcFYh",
        "outputId": "fb1c15cd-5b98-4a7a-eb52-766dac4f35c8"
      },
      "execution_count": null,
      "outputs": [
        {
          "output_type": "stream",
          "name": "stdout",
          "text": [
            "https://serpapi.com/search\n"
          ]
        }
      ]
    },
    {
      "cell_type": "code",
      "source": [
        "results"
      ],
      "metadata": {
        "id": "OxerTuTVeAT8"
      },
      "execution_count": null,
      "outputs": []
    },
    {
      "cell_type": "code",
      "source": [
        "for i in range(10):\n",
        "  rating = results[\"reviews\"][i][\"rating\"]\n",
        "  print(rating)\n",
        "  reviews = results[\"reviews\"][i][\"snippet\"]\n",
        "  print(reviews)"
      ],
      "metadata": {
        "id": "buUBh_aXdYzp"
      },
      "execution_count": null,
      "outputs": []
    },
    {
      "cell_type": "code",
      "source": [
        "# tempat makan ke 5"
      ],
      "metadata": {
        "id": "SX8CyE2XcGjm"
      },
      "execution_count": null,
      "outputs": []
    },
    {
      "cell_type": "code",
      "source": [
        "from serpapi import GoogleSearch\n",
        "\n",
        "params = {\n",
        "  \"engine\": \"google_maps_reviews\",\n",
        "  \"data_id\": \"0x2e708ca8f7e4fffb:0x91718a91a7d0f706\",\n",
        "  \"api_key\": \"2b34e8b0f32ffc331e496deb6940c89f1337ea4e4d7a46e3f5e2499936353b24\"\n",
        "}\n",
        "\n",
        "search = GoogleSearch(params)\n",
        "results = search.get_dict()\n",
        "reviews = results[\"reviews\"][1][\"snippet\"]"
      ],
      "metadata": {
        "colab": {
          "base_uri": "https://localhost:8080/"
        },
        "id": "HIqhtEmicJqi",
        "outputId": "68c366dc-5f30-4384-e2ff-6affd314f406"
      },
      "execution_count": null,
      "outputs": [
        {
          "output_type": "stream",
          "name": "stdout",
          "text": [
            "https://serpapi.com/search\n"
          ]
        }
      ]
    },
    {
      "cell_type": "code",
      "source": [
        "results"
      ],
      "metadata": {
        "id": "G-tiwq3ueRds"
      },
      "execution_count": null,
      "outputs": []
    },
    {
      "cell_type": "code",
      "source": [
        "for i in range(10):\n",
        "  rating = results[\"reviews\"][i][\"rating\"]\n",
        "  print(rating)\n",
        "  reviews = results[\"reviews\"][i][\"snippet\"]\n",
        "  print(reviews)"
      ],
      "metadata": {
        "id": "gJvelszgdack"
      },
      "execution_count": null,
      "outputs": []
    },
    {
      "cell_type": "code",
      "source": [
        "# tempat makan ke 6"
      ],
      "metadata": {
        "id": "wryWxHHwcLAC"
      },
      "execution_count": null,
      "outputs": []
    },
    {
      "cell_type": "code",
      "source": [
        "from serpapi import GoogleSearch\n",
        "\n",
        "params = {\n",
        "  \"engine\": \"google_maps_reviews\",\n",
        "  \"data_id\": \"0x2e70f4ab7dc385b9:0x1bca2004bdc7b86b\",\n",
        "  \"api_key\": \"2b34e8b0f32ffc331e496deb6940c89f1337ea4e4d7a46e3f5e2499936353b24\"\n",
        "}\n",
        "\n",
        "search = GoogleSearch(params)\n",
        "results = search.get_dict()\n",
        "reviews = results[\"reviews\"][1][\"snippet\"]"
      ],
      "metadata": {
        "colab": {
          "base_uri": "https://localhost:8080/"
        },
        "id": "CKdfpXmlcOYz",
        "outputId": "8d63b247-bde5-4042-9ab1-ec3ef7f4d42b"
      },
      "execution_count": null,
      "outputs": [
        {
          "output_type": "stream",
          "name": "stdout",
          "text": [
            "https://serpapi.com/search\n"
          ]
        }
      ]
    },
    {
      "cell_type": "code",
      "source": [
        "results"
      ],
      "metadata": {
        "id": "aNplWuU6ekJq"
      },
      "execution_count": null,
      "outputs": []
    },
    {
      "cell_type": "code",
      "source": [
        "for i in range(10):\n",
        "  rating = results[\"reviews\"][i][\"rating\"]\n",
        "  print(rating)\n",
        "  reviews = results[\"reviews\"][i][\"snippet\"]\n",
        "  print(reviews)"
      ],
      "metadata": {
        "id": "0JJG0lITdcOj"
      },
      "execution_count": null,
      "outputs": []
    },
    {
      "cell_type": "code",
      "source": [
        "# tempat makan ke 7"
      ],
      "metadata": {
        "id": "oz3mXCe9cPdb"
      },
      "execution_count": null,
      "outputs": []
    },
    {
      "cell_type": "code",
      "source": [
        "from serpapi import GoogleSearch\n",
        "\n",
        "params = {\n",
        "  \"engine\": \"google_maps_reviews\",\n",
        "  \"data_id\": \"0x2e708b511ec32a67:0x7be45c828b94c338\",\n",
        "  \"api_key\": \"2b34e8b0f32ffc331e496deb6940c89f1337ea4e4d7a46e3f5e2499936353b24\"\n",
        "}\n",
        "\n",
        "search = GoogleSearch(params)\n",
        "results = search.get_dict()\n",
        "reviews = results[\"reviews\"][1][\"snippet\"]"
      ],
      "metadata": {
        "colab": {
          "base_uri": "https://localhost:8080/"
        },
        "id": "1fWqhppCcR7C",
        "outputId": "a9c38478-1a32-43b0-a530-2f80fadc2a0a"
      },
      "execution_count": null,
      "outputs": [
        {
          "output_type": "stream",
          "name": "stdout",
          "text": [
            "https://serpapi.com/search\n"
          ]
        }
      ]
    },
    {
      "cell_type": "code",
      "source": [
        "results"
      ],
      "metadata": {
        "id": "9_DQzqlQe0ej"
      },
      "execution_count": null,
      "outputs": []
    },
    {
      "cell_type": "code",
      "source": [
        "for i in range(10):\n",
        "  rating = results[\"reviews\"][i][\"rating\"]\n",
        "  print(rating)\n",
        "  reviews = results[\"reviews\"][i][\"snippet\"]\n",
        "  print(reviews)"
      ],
      "metadata": {
        "id": "i5B6KvYTddqJ"
      },
      "execution_count": null,
      "outputs": []
    },
    {
      "cell_type": "code",
      "source": [
        "# tempat makaan ke 8"
      ],
      "metadata": {
        "id": "m-42L8VScS_7"
      },
      "execution_count": null,
      "outputs": []
    },
    {
      "cell_type": "code",
      "source": [
        "from serpapi import GoogleSearch\n",
        "\n",
        "params = {\n",
        "  \"engine\": \"google_maps_reviews\",\n",
        "  \"data_id\": \"0x2e708b47d1f6eea3:0xbbfb21e54306c08f\",\n",
        "  \"api_key\": \"2b34e8b0f32ffc331e496deb6940c89f1337ea4e4d7a46e3f5e2499936353b24\"\n",
        "}\n",
        "\n",
        "search = GoogleSearch(params)\n",
        "results = search.get_dict()\n",
        "reviews = results[\"reviews\"][1][\"snippet\"]"
      ],
      "metadata": {
        "colab": {
          "base_uri": "https://localhost:8080/"
        },
        "id": "79siwp6gcW__",
        "outputId": "f477fb33-7efc-4dd3-acc4-ba62d9671b5b"
      },
      "execution_count": null,
      "outputs": [
        {
          "output_type": "stream",
          "name": "stdout",
          "text": [
            "https://serpapi.com/search\n"
          ]
        }
      ]
    },
    {
      "cell_type": "code",
      "source": [
        "results"
      ],
      "metadata": {
        "id": "DllTc8sFfCq5"
      },
      "execution_count": null,
      "outputs": []
    },
    {
      "cell_type": "code",
      "source": [
        "for i in range(10):\n",
        "  rating = results[\"reviews\"][i][\"rating\"]\n",
        "  print(rating)\n",
        "  reviews = results[\"reviews\"][i][\"snippet\"]\n",
        "  print(reviews)"
      ],
      "metadata": {
        "id": "rNGjnHCrde8I"
      },
      "execution_count": null,
      "outputs": []
    },
    {
      "cell_type": "code",
      "source": [
        "# tempat makan ke 9"
      ],
      "metadata": {
        "id": "kUngkncacYkW"
      },
      "execution_count": null,
      "outputs": []
    },
    {
      "cell_type": "code",
      "source": [
        "from serpapi import GoogleSearch\n",
        "\n",
        "params = {\n",
        "  \"engine\": \"google_maps_reviews\",\n",
        "  \"data_id\": \"0x2e708b357dbdf639:0x82d871ba0f368e48\",\n",
        "  \"api_key\": \"2b34e8b0f32ffc331e496deb6940c89f1337ea4e4d7a46e3f5e2499936353b24\"\n",
        "}\n",
        "\n",
        "search = GoogleSearch(params)\n",
        "results = search.get_dict()\n",
        "reviews = results[\"reviews\"][1][\"snippet\"]"
      ],
      "metadata": {
        "colab": {
          "base_uri": "https://localhost:8080/"
        },
        "id": "krdMOv2ZccCi",
        "outputId": "7a6c88c6-35dd-4176-849c-11d62ec474e0"
      },
      "execution_count": null,
      "outputs": [
        {
          "output_type": "stream",
          "name": "stdout",
          "text": [
            "https://serpapi.com/search\n"
          ]
        }
      ]
    },
    {
      "cell_type": "code",
      "source": [
        "results"
      ],
      "metadata": {
        "id": "pKtNSgwQfUXT"
      },
      "execution_count": null,
      "outputs": []
    },
    {
      "cell_type": "code",
      "source": [
        "for i in range(10):\n",
        "  rating = results[\"reviews\"][i][\"rating\"]\n",
        "  print(rating)\n",
        "  reviews = results[\"reviews\"][i][\"snippet\"]\n",
        "  print(reviews)"
      ],
      "metadata": {
        "id": "frEX_YKodgIZ"
      },
      "execution_count": null,
      "outputs": []
    },
    {
      "cell_type": "code",
      "source": [
        "# tempat makan ke 10"
      ],
      "metadata": {
        "id": "8ms-GM_Hcc-4"
      },
      "execution_count": null,
      "outputs": []
    },
    {
      "cell_type": "code",
      "source": [
        "from serpapi import GoogleSearch\n",
        "\n",
        "params = {\n",
        "  \"engine\": \"google_maps_reviews\",\n",
        "  \"data_id\": \"0x2e708b382d629bfd:0x256eaa91a013a91a\",\n",
        "  \"api_key\": \"2b34e8b0f32ffc331e496deb6940c89f1337ea4e4d7a46e3f5e2499936353b24\"\n",
        "}\n",
        "\n",
        "search = GoogleSearch(params)\n",
        "results = search.get_dict()\n",
        "reviews = results[\"reviews\"][1][\"snippet\"]"
      ],
      "metadata": {
        "colab": {
          "base_uri": "https://localhost:8080/"
        },
        "id": "-cOvQb-icfuI",
        "outputId": "40bd2da6-f870-40a5-b8ac-faff12755709"
      },
      "execution_count": null,
      "outputs": [
        {
          "output_type": "stream",
          "name": "stdout",
          "text": [
            "https://serpapi.com/search\n"
          ]
        }
      ]
    },
    {
      "cell_type": "code",
      "source": [
        "results"
      ],
      "metadata": {
        "id": "lbyr2C0lfk1q"
      },
      "execution_count": null,
      "outputs": []
    },
    {
      "cell_type": "code",
      "source": [
        "for i in range(10):\n",
        "  rating = results[\"reviews\"][i][\"rating\"]\n",
        "  print(rating)\n",
        "  reviews = results[\"reviews\"][i][\"snippet\"]\n",
        "  print(reviews)"
      ],
      "metadata": {
        "id": "jP4p-C2WdhVt"
      },
      "execution_count": null,
      "outputs": []
    },
    {
      "cell_type": "code",
      "source": [
        "#   A. Case Folding #\n",
        "\n",
        "# 1. Mengubah text menjadi lowercase \n",
        "kalimat = \"Nagih... (Original) Bakso abang2 semarangan. Lokasi belakang Gedung HSBC Semarang daerah Simpang Lima. Jamin enak bakso kuah gurih ada sayuran ijo bakmi bihun jeroan usus babat dan yang paling enak PANGSIT GORENG (bisa tambah porsinan satu mangkok). Nagih...\"\n",
        "lower_case = kalimat.lower()\n",
        "print(lower_case)"
      ],
      "metadata": {
        "colab": {
          "base_uri": "https://localhost:8080/"
        },
        "id": "2PZV0XXkEv3B",
        "outputId": "52f7af2f-0e74-4820-c459-e6297e9f9719"
      },
      "execution_count": null,
      "outputs": [
        {
          "output_type": "stream",
          "name": "stdout",
          "text": [
            "nagih... (original) bakso abang2 semarangan. lokasi belakang gedung hsbc semarang daerah simpang lima. jamin enak bakso kuah gurih ada sayuran ijo bakmi bihun jeroan usus babat dan yang paling enak pangsit goreng (bisa tambah porsinan satu mangkok). nagih...\n"
          ]
        }
      ]
    },
    {
      "cell_type": "code",
      "source": [
        "# 2. Menghapus angka\n",
        "import re #import modul regular expressio\n",
        "kalimat = \"nagih... (original) bakso abang2 semarangan. lokasi belakang gedung hsbc semarang daerah simpang lima. jamin enak bakso kuah gurih ada sayuran ijo bakmi bihun jeroan usus babat dan yang paling enak pangsit goreng (bisa tambah porsinan satu mangkok). nagih...\"\n",
        "hasil = re.sub(r\"\\d+\",\"\", kalimat)\n",
        "print (hasil)"
      ],
      "metadata": {
        "colab": {
          "base_uri": "https://localhost:8080/"
        },
        "id": "rYxDXetmFsvG",
        "outputId": "c0ede544-1b06-46c9-d45f-55c5774b704c"
      },
      "execution_count": null,
      "outputs": [
        {
          "output_type": "stream",
          "name": "stdout",
          "text": [
            "nagih... (original) bakso abang semarangan. lokasi belakang gedung hsbc semarang daerah simpang lima. jamin enak bakso kuah gurih ada sayuran ijo bakmi bihun jeroan usus babat dan yang paling enak pangsit goreng (bisa tambah porsinan satu mangkok). nagih...\n"
          ]
        }
      ]
    },
    {
      "cell_type": "code",
      "source": [
        "# 3. Menghapus tanda baca\n",
        "import string\n",
        "kalimat = \"nagih... (original) bakso abang semarangan. lokasi belakang gedung hsbc semarang daerah simpang lima. jamin enak bakso kuah gurih ada sayuran ijo bakmi bihun jeroan usus babat dan yang paling enak pangsit goreng (bisa tambah porsinan satu mangkok). nagih...\"\n",
        "hasil = kalimat.translate(str.maketrans(\"\",\"\",string.punctuation))\n",
        "print (hasil)"
      ],
      "metadata": {
        "colab": {
          "base_uri": "https://localhost:8080/"
        },
        "id": "bwbS-A8XGBrg",
        "outputId": "1fd0bb21-4e11-4dd0-be08-837496e4b462"
      },
      "execution_count": null,
      "outputs": [
        {
          "output_type": "stream",
          "name": "stdout",
          "text": [
            "nagih original bakso abang semarangan lokasi belakang gedung hsbc semarang daerah simpang lima jamin enak bakso kuah gurih ada sayuran ijo bakmi bihun jeroan usus babat dan yang paling enak pangsit goreng bisa tambah porsinan satu mangkok nagih\n"
          ]
        }
      ]
    },
    {
      "cell_type": "code",
      "source": [
        "#     B. TOKENIZING #\n",
        "\n",
        "import nltk\n",
        "nltk.download('book')\n",
        "#or\n",
        "nltk.download('tests')\n",
        "#or\n",
        "nltk.download('all-corpora')# not recommended as it download huge amount of data."
      ],
      "metadata": {
        "id": "RKP463lzGtqz"
      },
      "execution_count": null,
      "outputs": []
    },
    {
      "cell_type": "code",
      "source": [
        "# import word_tokenize dari modul nltk\n",
        "from nltk.tokenize import sent_tokenize, word_tokenize\n",
        "kalimat = \"nagih original bakso abang semarangan lokasi belakang gedung hsbc semarang daerah simpang lima jamin enak bakso kuah gurih ada sayuran ijo bakmi bihun jeroan usus babat dan yang paling enak pangsit goreng bisa tambah porsinan satu mangkok nagih\"\n",
        "tokens = word_tokenize(kalimat)\n",
        "print(tokens)"
      ],
      "metadata": {
        "colab": {
          "base_uri": "https://localhost:8080/"
        },
        "id": "PuJzdmvMHDnK",
        "outputId": "c4f66f3c-4806-4b98-bb0c-25a911a2d7fb"
      },
      "execution_count": null,
      "outputs": [
        {
          "output_type": "stream",
          "name": "stdout",
          "text": [
            "['nagih', 'original', 'bakso', 'abang', 'semarangan', 'lokasi', 'belakang', 'gedung', 'hsbc', 'semarang', 'daerah', 'simpang', 'lima', 'jamin', 'enak', 'bakso', 'kuah', 'gurih', 'ada', 'sayuran', 'ijo', 'bakmi', 'bihun', 'jeroan', 'usus', 'babat', 'dan', 'yang', 'paling', 'enak', 'pangsit', 'goreng', 'bisa', 'tambah', 'porsinan', 'satu', 'mangkok', 'nagih']\n"
          ]
        }
      ]
    },
    {
      "cell_type": "code",
      "source": [
        "# C. STOPWORD REMOVAL(FILTERING) #\n",
        "\n",
        "# Filtering menggunakan sastrawi\n",
        "!pip install Sastrawi"
      ],
      "metadata": {
        "colab": {
          "base_uri": "https://localhost:8080/"
        },
        "id": "GNIF1WR8H1ZV",
        "outputId": "2b715c44-e2aa-4ef3-8a76-b5418e63332f"
      },
      "execution_count": null,
      "outputs": [
        {
          "output_type": "stream",
          "name": "stdout",
          "text": [
            "Looking in indexes: https://pypi.org/simple, https://us-python.pkg.dev/colab-wheels/public/simple/\n",
            "Collecting Sastrawi\n",
            "  Downloading Sastrawi-1.0.1-py2.py3-none-any.whl (209 kB)\n",
            "\u001b[K     |████████████████████████████████| 209 kB 5.5 MB/s \n",
            "\u001b[?25hInstalling collected packages: Sastrawi\n",
            "Successfully installed Sastrawi-1.0.1\n"
          ]
        }
      ]
    },
    {
      "cell_type": "code",
      "source": [
        "# Daftar stopword yang tersedia di library Sastrawi\n",
        "from Sastrawi.StopWordRemover.StopWordRemoverFactory import StopWordRemoverFactory\n",
        "factory = StopWordRemoverFactory()\n",
        "stopwords = factory.get_stop_words()\n",
        "print(stopwords)"
      ],
      "metadata": {
        "colab": {
          "base_uri": "https://localhost:8080/"
        },
        "id": "H3EPqpVLIKNE",
        "outputId": "31c4f777-c505-4cba-b87d-ac1597b9c47c"
      },
      "execution_count": null,
      "outputs": [
        {
          "output_type": "stream",
          "name": "stdout",
          "text": [
            "['yang', 'untuk', 'pada', 'ke', 'para', 'namun', 'menurut', 'antara', 'dia', 'dua', 'ia', 'seperti', 'jika', 'jika', 'sehingga', 'kembali', 'dan', 'tidak', 'ini', 'karena', 'kepada', 'oleh', 'saat', 'harus', 'sementara', 'setelah', 'belum', 'kami', 'sekitar', 'bagi', 'serta', 'di', 'dari', 'telah', 'sebagai', 'masih', 'hal', 'ketika', 'adalah', 'itu', 'dalam', 'bisa', 'bahwa', 'atau', 'hanya', 'kita', 'dengan', 'akan', 'juga', 'ada', 'mereka', 'sudah', 'saya', 'terhadap', 'secara', 'agar', 'lain', 'anda', 'begitu', 'mengapa', 'kenapa', 'yaitu', 'yakni', 'daripada', 'itulah', 'lagi', 'maka', 'tentang', 'demi', 'dimana', 'kemana', 'pula', 'sambil', 'sebelum', 'sesudah', 'supaya', 'guna', 'kah', 'pun', 'sampai', 'sedangkan', 'selagi', 'sementara', 'tetapi', 'apakah', 'kecuali', 'sebab', 'selain', 'seolah', 'seraya', 'seterusnya', 'tanpa', 'agak', 'boleh', 'dapat', 'dsb', 'dst', 'dll', 'dahulu', 'dulunya', 'anu', 'demikian', 'tapi', 'ingin', 'juga', 'nggak', 'mari', 'nanti', 'melainkan', 'oh', 'ok', 'seharusnya', 'sebetulnya', 'setiap', 'setidaknya', 'sesuatu', 'pasti', 'saja', 'toh', 'ya', 'walau', 'tolong', 'tentu', 'amat', 'apalagi', 'bagaimanapun']\n"
          ]
        }
      ]
    },
    {
      "cell_type": "code",
      "source": [
        "# import StopWordRemoverFactory class\n",
        "from Sastrawi.StopWordRemover.StopWordRemoverFactory import StopWordRemoverFactory\n",
        "factory = StopWordRemoverFactory()\n",
        "stopword = factory.create_stop_word_remover()\n",
        "# Kalimat\n",
        "kalimat = \"nagih original bakso abang semarangan lokasi belakang gedung hsbc semarang daerah simpang lima jamin enak bakso kuah gurih ada sayuran ijo bakmi bihun jeroan usus babat dan yang paling enak pangsit goreng bisa tambah porsinan satu mangkok nagih\"\n",
        "stop = stopword.remove(kalimat)\n",
        "print(stop)"
      ],
      "metadata": {
        "colab": {
          "base_uri": "https://localhost:8080/"
        },
        "id": "lgwKpAv5IN-z",
        "outputId": "ca4c5184-cda4-4c95-8261-fc288c9864c8"
      },
      "execution_count": null,
      "outputs": [
        {
          "output_type": "stream",
          "name": "stdout",
          "text": [
            "nagih original bakso abang semarangan lokasi belakang gedung hsbc semarang daerah simpang lima jamin enak bakso kuah gurih sayuran ijo bakmi bihun jeroan usus babat yang paling enak pangsit goreng tambah porsinan satu mangkok nagih\n"
          ]
        }
      ]
    },
    {
      "cell_type": "code",
      "source": [
        "# D. STEMMING #\n",
        "\n",
        "# Stemming menggunakan sastrawi\n",
        "!pip install Sastrawi"
      ],
      "metadata": {
        "colab": {
          "base_uri": "https://localhost:8080/"
        },
        "id": "ipWKXoS4IioX",
        "outputId": "51dbed69-922a-4162-a6cb-b17f0b446e0a"
      },
      "execution_count": null,
      "outputs": [
        {
          "output_type": "stream",
          "name": "stdout",
          "text": [
            "Looking in indexes: https://pypi.org/simple, https://us-python.pkg.dev/colab-wheels/public/simple/\n",
            "Requirement already satisfied: Sastrawi in /usr/local/lib/python3.7/dist-packages (1.0.1)\n"
          ]
        }
      ]
    },
    {
      "cell_type": "code",
      "source": [
        "# import StemmerFactory class\n",
        "from Sastrawi.Stemmer.StemmerFactory import StemmerFactory \n",
        "factory = StemmerFactory()\n",
        "stemmer = factory.create_stemmer()\n",
        "kalimat = 'nagih original bakso abang semarangan lokasi belakang gedung hsbc semarang daerah simpang lima jamin enak bakso kuah gurih sayuran ijo bakmi bihun jeroan usus babat yang paling enak pangsit goreng tambah porsinan satu mangkok nagih'\n",
        "hasil = stemmer.stem(kalimat)\n",
        "print(hasil)"
      ],
      "metadata": {
        "colab": {
          "base_uri": "https://localhost:8080/"
        },
        "id": "MVauNaRLI6hI",
        "outputId": "722744e9-d0db-48e6-d5d2-b7b8c5b472e2"
      },
      "execution_count": null,
      "outputs": [
        {
          "output_type": "stream",
          "name": "stdout",
          "text": [
            "nagih original bakso abang semarangan lokasi belakang gedung hsbc semarang daerah simpang lima jamin enak bakso kuah gurih sayur ijo bakmi bihun jeroan usus babat yang paling enak pangsit goreng tambah porsinan satu mangkok nagih\n"
          ]
        }
      ]
    }
  ]
}